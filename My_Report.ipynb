{
 "cells": [
  {
   "cell_type": "markdown",
   "metadata": {},
   "source": [
    "# The Battle of Neighborhoods | Introduction/Buisness problem"
   ]
  },
  {
   "cell_type": "markdown",
   "metadata": {},
   "source": [
    "## Introduction:\n",
    "\n",
    "Coranvirus has effected people immensely, whle half of the population is working from home another is finding it difficult to hold on to jobs.The population working from home has spent last year in lockdown or taking precautions, this has caused them to save considerable amount of money giving them the ability to save for their first home. While there are other people who are tired of conditions in their area and looking to shift to a new place. This project will help them with their choice. The purpose of this Project is to help people in exploring better facilities around their neighborhood. It will help people making smart and efficient decision.\n",
    "\n",
    "Coronavirus and lockdown have caused lots of people to migrate to various states of Canada and needed lots of research for good housing prices and reputated schools for their children. This project is for those people who are looking for better neighborhoods. For ease of accessing to Cafe, School, Super market, medical shops, grocery shops, mall, theatre, hospital, like minded people, etc.\n",
    "\n",
    "This Project aim to create an analysis of features for a people migrating to Scarborough to search a best neighborhood which might meat the need of the clients. The features include housing price and better school according to their ratings, crime rates of the area, roads, weather conditions, emergency services, water resource management. \n",
    "\n",
    "It will help people to get awareness of the area and neighborhood before moving to a new city, state, country or place for their work or to start a new fresh life.\n",
    "\n",
    "\n",
    "## Problem Which Tried to Solve:\n",
    "\n",
    "The major purpose of this project, is to suggest a better neighborhood in a new city for the person who buying or renting . Social presence in society in terms of like minded people. Connectivity to the airport, bus stand, city center, markets and other daily needs things nearby.\n",
    "\n",
    "1. Sorted list of houses in terms of housing prices in a ascending or descending order\n",
    "2. Sorted list of schools in terms of fees, location, ratings and reviews\n",
    "\n",
    "\n",
    "## The Location:\n",
    "Scarborough is one of the most popular destination for new immigrants in Canada to reside. As a result, it is diverse and multicultural in the Greater Toronto Area, being home to various religious groups and places of worship.The immigration into Canada has been one of on the rise. While the nuber of biths in 2019 were 392,000 the government is looking to have 400,000 immigrants each year from 2013\n",
    "\n",
    "\n",
    "## Foursquare API:\n",
    "This project would use Four-square API as its prime data gathering source as it has a database of millions of places, especially their places API which provides the ability to perform location search, location sharing and details about a business.\n",
    "\n",
    "\n",
    "## Work Flow:\n",
    "Using credentials of Foursquare API features of near-by places of the neighborhoods would be mined. Due to http request limitations the number of places per neighborhood parameter would reasonably be set to 100 and the radius parameter would be set to 500.\n",
    "\n",
    "\n",
    "## Clustering Approach:\n",
    "To compare the similarities of two cities, we decided to explore neighborhoods, segment them, and group them into clusters to find similar neighborhoods in a big city like New York and Toronto. To be able to do that, we need to cluster data which is a form of unsupervised machine learning: k-means clustering algorithm\n",
    "\n",
    "\n"
   ]
  }
 ],
 "metadata": {
  "kernelspec": {
   "display_name": "Python 3",
   "language": "python",
   "name": "python3"
  },
  "language_info": {
   "codemirror_mode": {
    "name": "ipython",
    "version": 3
   },
   "file_extension": ".py",
   "mimetype": "text/x-python",
   "name": "python",
   "nbconvert_exporter": "python",
   "pygments_lexer": "ipython3",
   "version": "3.9.1"
  }
 },
 "nbformat": 4,
 "nbformat_minor": 4
}
